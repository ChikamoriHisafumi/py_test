{
 "cells": [
  {
   "cell_type": "code",
   "execution_count": 1,
   "metadata": {},
   "outputs": [
    {
     "name": "stdout",
     "output_type": "stream",
     "text": [
      "True\n"
     ]
    }
   ],
   "source": [
    "x = 1\n",
    "y = 2\n",
    "\n",
    "if x < y:\n",
    "    print('True')\n",
    "else:\n",
    "    print('False')"
   ]
  },
  {
   "cell_type": "code",
   "execution_count": 3,
   "metadata": {},
   "outputs": [
    {
     "name": "stdout",
     "output_type": "stream",
     "text": [
      "3.3333333333333335\n",
      "3\n",
      "1\n",
      "9\n"
     ]
    }
   ],
   "source": [
    "x = 10\n",
    "\n",
    "#割り算\n",
    "print(x/3)\n",
    "\n",
    "# 除算\n",
    "print(x //3)\n",
    "\n",
    "# 余り\n",
    "print(x % 3)\n",
    "\n",
    "#べき乗\n",
    "print(3 ** 2)"
   ]
  },
  {
   "cell_type": "code",
   "execution_count": 5,
   "metadata": {},
   "outputs": [
    {
     "name": "stdout",
     "output_type": "stream",
     "text": [
      "False\n",
      "True\n",
      "False\n"
     ]
    }
   ],
   "source": [
    "# True or false\n",
    "print(True and False)\n",
    "print(True or False)\n",
    "print(not True)\n"
   ]
  },
  {
   "cell_type": "code",
   "execution_count": 7,
   "metadata": {},
   "outputs": [
    {
     "name": "stdout",
     "output_type": "stream",
     "text": [
      "helloworld\n",
      "hellohellohello\n"
     ]
    }
   ],
   "source": [
    "print(\"hello\"+\"world\")\n",
    "print(\"hello\" * 3)"
   ]
  },
  {
   "cell_type": "code",
   "execution_count": 9,
   "metadata": {},
   "outputs": [
    {
     "name": "stdout",
     "output_type": "stream",
     "text": [
      "name: Endo,score:52.600000\n",
      "name:       Endo,score:     52.60\n",
      "name: Endo      ,score:52.60     \n"
     ]
    }
   ],
   "source": [
    "name = \"Endo\"\n",
    "score = 52.6\n",
    "\n",
    "# %で文字列埋め込み(整数は%d)\n",
    "print(\"name: %s,score:%f\" %(name,score))\n",
    "\n",
    "# 桁数表示幅を指定する。\n",
    "# %10s =10の幅を持たせる。%10.2f=10の幅を持たせて小数点2桁にする。\n",
    "print(\"name: %10s,score:%10.2f\" %(name,score))\n",
    "# 左揃えにする。\n",
    "print(\"name: %-10s,score:%-10.2f\" %(name,score))"
   ]
  },
  {
   "cell_type": "code",
   "execution_count": 2,
   "metadata": {},
   "outputs": [
    {
     "data": {
      "text/plain": [
       "<BarContainer object of 5 artists>"
      ]
     },
     "execution_count": 2,
     "metadata": {},
     "output_type": "execute_result"
    },
    {
     "data": {
      "image/png": "[encoded data removed]",
      "text/plain": [
       "<Figure size 432x288 with 1 Axes>"
      ]
     },
     "metadata": {
      "needs_background": "light"
     },
     "output_type": "display_data"
    }
   ],
   "source": [
    "import numpy as np\n",
    "import matplotlib.pyplot as plt\n",
    "\n",
    "bar = np.array([1, 2, 3, 4, 5])\n",
    "height = np.array([10, 20, 30, 40, 50])\n",
    "plt.bar(bar, height)"
   ]
  }
 ],
 "metadata": {
  "kernelspec": {
   "display_name": "Python 3",
   "language": "python",
   "name": "python3"
  },
  "language_info": {
   "codemirror_mode": {
    "name": "ipython",
    "version": 3
   },
   "file_extension": ".py",
   "mimetype": "text/x-python",
   "name": "python",
   "nbconvert_exporter": "python",
   "pygments_lexer": "ipython3",
   "version": "3.7.0"
  }
 },
 "nbformat": 4,
 "nbformat_minor": 2
}
